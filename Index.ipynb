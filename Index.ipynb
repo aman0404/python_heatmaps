{
 "cells": [
  {
   "cell_type": "markdown",
   "metadata": {},
   "source": [
    "Class outline:\n",
    "\n",
    "* A quick installation check of [ipython](https://ipython.org/install.html) and [jupyter notebook](https://jupyter.readthedocs.io/en/latest/install.html)\n",
    "* An overview of the IPython project from [the official website](http://ipython.org), and [jupyter](https://jupyter.org)\n",
    "* Super basic intro to the notebook: typing code.\n",
    "* [Notebook Basics](examples/Notebook/Notebook%20Basics.ipynb)\n",
    "* [IPython - beyond plain python](examples/IPython%20Kernel/Beyond%20Plain%20Python.ipynb)\n",
    "* [Markdown Cells](examples/Notebook/Working%20With%20Markdown%20Cells.ipynb)\n",
    "* [Rich Display System](examples/IPython%20Kernel/Rich%20Output.ipynb)\n",
    "* [Custom Display logic](examples/IPython%20Kernel/Custom%20Display%20Logic.ipynb)\n",
    "* [Customizing IPython - a condensed version](exercises/Customization/Condensed.ipynb)\n",
    "* [Running a Secure Public Notebook Server](examples/Notebook/Running%20the%20Notebook%20Server.ipynb#Securing-the-notebook-server)\n",
    "* [How Jupyter/IPython works](examples/Notebook/Multiple%20Languages%2C%20Frontends.ipynb) to run code in different languages."
   ]
  },
  {
   "cell_type": "markdown",
   "metadata": {},
   "source": [
    "Get this tutorial:\n",
    "\n",
    "    git clone https://github.com/ipython/ipython-in-depth\n",
    "\n",
    "Install IPython and Jupyter:\n",
    "\n",
    "with [conda](https://www.continuum.io/downloads):\n",
    "\n",
    "    conda install ipython jupyter\n",
    "\n",
    "with pip:\n",
    "\n",
    "    # first, upgrade pip!\n",
    "    pip install --upgrade pip\n",
    "    pip install --upgrade ipython jupyter\n",
    "\n",
    "Start the notebook in the tutorial directory:\n",
    "\n",
    "    cd ipython-in-depth\n",
    "    jupyter notebook"
   ]
  },
  {
   "cell_type": "markdown",
   "metadata": {},
   "source": [
    "There are a lot more detailed notebooks in this same directory that cover other topics, but we can not cover all in a 3-hour tutorial. We encourage you to explore them and practice on your own."
   ]
  },
  {
   "cell_type": "markdown",
   "metadata": {},
   "source": [
    "# IPython & Jupyter: a PyCon 2017 tutorial"
   ]
  },
  {
   "cell_type": "code",
   "execution_count": 80,
   "metadata": {},
   "outputs": [
    {
     "name": "stdout",
     "output_type": "stream",
     "text": [
      "Requirement already satisfied: h5py in /srv/conda/envs/notebook/lib/python3.6/site-packages (3.1.0)\n",
      "Requirement already satisfied: cached-property in /srv/conda/envs/notebook/lib/python3.6/site-packages (from h5py) (1.5.2)\n",
      "Requirement already satisfied: numpy>=1.12 in /srv/conda/envs/notebook/lib/python3.6/site-packages (from h5py) (1.19.5)\n",
      "Note: you may need to restart the kernel to use updated packages.\n"
     ]
    }
   ],
   "source": [
    "pip install h5py\n"
   ]
  },
  {
   "cell_type": "code",
   "execution_count": 81,
   "metadata": {},
   "outputs": [
    {
     "name": "stdout",
     "output_type": "stream",
     "text": [
      "Requirement already satisfied: seaborn in /srv/conda/envs/notebook/lib/python3.6/site-packages (0.11.1)\n",
      "Requirement already satisfied: pandas>=0.23 in /srv/conda/envs/notebook/lib/python3.6/site-packages (from seaborn) (1.1.5)\n",
      "Requirement already satisfied: numpy>=1.15 in /srv/conda/envs/notebook/lib/python3.6/site-packages (from seaborn) (1.19.5)\n",
      "Requirement already satisfied: matplotlib>=2.2 in /srv/conda/envs/notebook/lib/python3.6/site-packages (from seaborn) (3.3.4)\n",
      "Requirement already satisfied: scipy>=1.0 in /srv/conda/envs/notebook/lib/python3.6/site-packages (from seaborn) (1.5.3)\n",
      "Requirement already satisfied: python-dateutil>=2.1 in /srv/conda/envs/notebook/lib/python3.6/site-packages (from matplotlib>=2.2->seaborn) (2.8.1)\n",
      "Requirement already satisfied: pyparsing!=2.0.4,!=2.1.2,!=2.1.6,>=2.0.3 in /srv/conda/envs/notebook/lib/python3.6/site-packages (from matplotlib>=2.2->seaborn) (2.4.7)\n",
      "Requirement already satisfied: cycler>=0.10 in /srv/conda/envs/notebook/lib/python3.6/site-packages/cycler-0.10.0-py3.6.egg (from matplotlib>=2.2->seaborn) (0.10.0)\n",
      "Requirement already satisfied: kiwisolver>=1.0.1 in /srv/conda/envs/notebook/lib/python3.6/site-packages (from matplotlib>=2.2->seaborn) (1.3.1)\n",
      "Requirement already satisfied: pillow>=6.2.0 in /srv/conda/envs/notebook/lib/python3.6/site-packages (from matplotlib>=2.2->seaborn) (8.2.0)\n",
      "Requirement already satisfied: six in /srv/conda/envs/notebook/lib/python3.6/site-packages (from cycler>=0.10->matplotlib>=2.2->seaborn) (1.15.0)\n",
      "Requirement already satisfied: pytz>=2017.2 in /srv/conda/envs/notebook/lib/python3.6/site-packages (from pandas>=0.23->seaborn) (2021.1)\n",
      "Note: you may need to restart the kernel to use updated packages.\n"
     ]
    }
   ],
   "source": [
    "pip install seaborn\n"
   ]
  },
  {
   "cell_type": "code",
   "execution_count": 5,
   "metadata": {},
   "outputs": [],
   "source": [
    "\n",
    "import matplotlib.pyplot as plt\n",
    "import h5py\n",
    "import numpy as np"
   ]
  },
  {
   "cell_type": "code",
   "execution_count": 11,
   "metadata": {},
   "outputs": [],
   "source": [
    "out = h5py.File('problem5a.h5')\n"
   ]
  },
  {
   "cell_type": "code",
   "execution_count": 12,
   "metadata": {},
   "outputs": [
    {
     "data": {
      "text/plain": [
       "<KeysViewHDF5 ['cell_fields', 'cell_index', 'source_fields', 'source_index', 'time']>"
      ]
     },
     "execution_count": 12,
     "metadata": {},
     "output_type": "execute_result"
    }
   ],
   "source": [
    "out.keys()\n",
    "\n"
   ]
  },
  {
   "cell_type": "code",
   "execution_count": 13,
   "metadata": {},
   "outputs": [
    {
     "name": "stdout",
     "output_type": "stream",
     "text": [
      "<HDF5 dataset \"fluid_temperature\": shape (201, 96), type \"<f8\">\n"
     ]
    },
    {
     "data": {
      "text/plain": [
       "array([[240.        , 240.        , 240.        , ..., 160.        ,\n",
       "        160.        , 160.        ],\n",
       "       [239.97323716, 239.9733661 , 239.9738272 , ..., 159.99908294,\n",
       "        159.99791384, 159.99931231],\n",
       "       [239.97050961, 239.97242162, 239.97227122, ..., 160.00136978,\n",
       "        159.99781023, 159.99928804],\n",
       "       ...,\n",
       "       [235.67366037, 226.22290867, 207.73799043, ..., 160.02560902,\n",
       "        160.01025585, 160.00324075],\n",
       "       [235.64787662, 226.0749078 , 207.4757162 , ..., 160.02548679,\n",
       "        160.01025093, 160.00324014],\n",
       "       [235.62173845, 225.92615342, 207.21376067, ..., 160.02536569,\n",
       "        160.01024582, 160.00323948]])"
      ]
     },
     "execution_count": 13,
     "metadata": {},
     "output_type": "execute_result"
    }
   ],
   "source": [
    "n1 = out.get('cell_fields/fluid_temperature') #get the dataset\n",
    "print(n1)\n",
    "n1 = np.array(n1) #change that dataset into arrays\n",
    "#print(n1) #now see what \n",
    "n1"
   ]
  },
  {
   "cell_type": "code",
   "execution_count": 15,
   "metadata": {
    "scrolled": true
   },
   "outputs": [
    {
     "name": "stdout",
     "output_type": "stream",
     "text": [
      "[235.62173845 225.92615342 207.21376067 194.6924396  184.77971753\n",
      " 176.48110087 169.86841958 165.12696873 162.20519998 160.73663731\n",
      " 160.17350114 160.02289829 236.09603424 232.5946209  203.51310718\n",
      " 191.93546246 183.00925368 175.35974623 169.19687973 164.74219463\n",
      " 162.01195403 160.65918756 160.15163352 160.01961507 233.31896613\n",
      " 228.04080531 201.91065202 186.63184943 179.81774376 173.54497016\n",
      " 168.07288167 164.08301373 161.68028066 160.52823799 160.11569281\n",
      " 160.01441949 229.01633448 219.56416682 194.61229702 185.14091063\n",
      " 178.0220592  171.79580605 166.76524812 163.27769976 161.28079902\n",
      " 160.37891074 160.07843988 160.00976602 223.45712136 210.82610075\n",
      " 194.68808759 184.20791906 176.23572826 169.95504573 165.34797295\n",
      " 162.411422   160.86757647 160.23498708 160.04647321 160.00650592\n",
      " 218.17597452 206.7175065  193.17394167 182.31735898 174.01561547\n",
      " 167.93912484 163.89452298 161.57805128 160.49956937 160.11822541\n",
      " 160.02305466 160.00426575 213.24156111 202.74627333 190.27642392\n",
      " 179.52509258 171.39405159 165.85656216 162.55092795 160.89800349\n",
      " 160.24446382 160.05379635 160.0135464  160.00347804 208.46268637\n",
      " 198.60481832 186.75807243 176.38991416 168.80015489 164.03173715\n",
      " 161.51344784 160.44479643 160.10289369 160.02536569 160.01024582\n",
      " 160.00323948]\n"
     ]
    },
    {
     "data": {
      "image/png": "[encoded data removed]",
      "text/plain": [
       "<Figure size 432x288 with 2 Axes>"
      ]
     },
     "metadata": {
      "needs_background": "light"
     },
     "output_type": "display_data"
    }
   ],
   "source": [
    "import numpy as np\n",
    "import seaborn as sns\n",
    "import matplotlib.pylab as plt\n",
    "print(n1[200][:])\n",
    "ax = sns.heatmap(n1, linewidth=0)\n",
    "plt.show()\n"
   ]
  },
  {
   "cell_type": "code",
   "execution_count": 30,
   "metadata": {},
   "outputs": [
    {
     "name": "stdout",
     "output_type": "stream",
     "text": [
      "96\n",
      "12 8\n"
     ]
    },
    {
     "data": {
      "image/png": "[encoded data removed]",
      "text/plain": [
       "<Figure size 432x288 with 2 Axes>"
      ]
     },
     "metadata": {
      "needs_background": "light"
     },
     "output_type": "display_data"
    }
   ],
   "source": [
    "import matplotlib.pyplot as plt\n",
    "import h5py\n",
    "import numpy as np\n",
    "import math\n",
    "import itertools\n",
    "out = h5py.File('problem5a.h5')\n",
    "out.keys()\n",
    "\n",
    "n1 = out.get('cell_fields/fluid_temperature') #get the dataset\n",
    "\n",
    "n1 = np.array(n1) #change that dataset into arrays\n",
    "#print(n1) #now see what \n",
    "\n",
    "\n",
    "\n",
    "bin1 = len(n1)-1\n",
    "value = n1[bin1][:]\n",
    "#print(value)\n",
    "N_ele = len(value)\n",
    "print(N_ele)\n",
    "number = N_ele\n",
    "\n",
    "for i in range(100):\n",
    "    if(number == i*i):\n",
    "        num1 = i\n",
    "        num2 = i\n",
    "        break\n",
    "    else:\n",
    "        q = number // (i+1+1)\n",
    "        remainder = float(number % (i+2))\n",
    "        if((remainder==0) & (i+2!=float(number)) & (i+2 > q)):\n",
    "            #print(i+2,q)\n",
    "            num1 = i+2\n",
    "            num2 = q\n",
    "            break\n",
    "    \n",
    "    \n",
    "value[N_ele-1]\n",
    "w = num1\n",
    "h = num2\n",
    "print(w,h)\n",
    "\n",
    "Matrix = [[0 for x in range(w)] for y in range(h)] \n",
    "a = 0\n",
    "for i in range(h):\n",
    "    for j in range(w):\n",
    "        Matrix[i][j] = value[a]\n",
    "        #print(i,j)\n",
    "        a = a+1\n",
    "        \n",
    "def heatmap2d(arr: np.ndarray):\n",
    "    plt.imshow(arr, cmap='viridis')\n",
    "    plt.colorbar()\n",
    "    plt.show()\n",
    "\n",
    "\n",
    "test_array = Matrix\n",
    "heatmap2d(Matrix)"
   ]
  },
  {
   "cell_type": "code",
   "execution_count": null,
   "metadata": {},
   "outputs": [],
   "source": []
  },
  {
   "cell_type": "code",
   "execution_count": null,
   "metadata": {},
   "outputs": [],
   "source": []
  }
 ],
 "metadata": {
  "kernelspec": {
   "display_name": "Python 3",
   "language": "python",
   "name": "python3"
  },
  "language_info": {
   "codemirror_mode": {
    "name": "ipython",
    "version": 3
   },
   "file_extension": ".py",
   "mimetype": "text/x-python",
   "name": "python",
   "nbconvert_exporter": "python",
   "pygments_lexer": "ipython3",
   "version": "3.9.1"
  }
 },
 "nbformat": 4,
 "nbformat_minor": 1
}

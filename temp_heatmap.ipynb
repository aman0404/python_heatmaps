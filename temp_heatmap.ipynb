{
 "cells": [
  {
   "cell_type": "code",
   "execution_count": 2,
   "metadata": {},
   "outputs": [],
   "source": [
    "import matplotlib.pyplot as plt\n",
    "import h5py\n",
    "import numpy as np"
   ]
  },
  {
   "cell_type": "code",
   "execution_count": 3,
   "metadata": {},
   "outputs": [],
   "source": [
    "out = h5py.File('problem1.h5')"
   ]
  },
  {
   "cell_type": "code",
   "execution_count": 4,
   "metadata": {},
   "outputs": [
    {
     "data": {
      "text/plain": [
       "<KeysViewHDF5 ['cell_fields', 'cell_index', 'source_fields', 'source_index', 'time']>"
      ]
     },
     "execution_count": 4,
     "metadata": {},
     "output_type": "execute_result"
    }
   ],
   "source": [
    "out.keys()"
   ]
  },
  {
   "cell_type": "code",
   "execution_count": 5,
   "metadata": {
    "scrolled": true
   },
   "outputs": [
    {
     "name": "stdout",
     "output_type": "stream",
     "text": [
      "<HDF5 dataset \"fluid_temperature\": shape (72, 16), type \"<f8\">\n"
     ]
    },
    {
     "data": {
      "text/plain": [
       "array([[100.        , 100.        , 100.        , ..., 100.        ,\n",
       "        100.        , 100.        ],\n",
       "       [100.00002096, 100.00000131, 100.00000012, ..., 100.        ,\n",
       "        100.        , 100.        ],\n",
       "       [100.00004755, 100.00000473, 100.00000067, ..., 100.00000004,\n",
       "        100.00000001, 100.        ],\n",
       "       ...,\n",
       "       [100.07468268, 100.01076199, 100.01069154, ..., 100.0106707 ,\n",
       "        100.01066362, 100.01065912],\n",
       "       [100.07595691, 100.01094664, 100.01087497, ..., 100.01085412,\n",
       "        100.01084704, 100.01084253],\n",
       "       [100.07667224, 100.01105031, 100.01097794, ..., 100.0109571 ,\n",
       "        100.01095001, 100.01094551]])"
      ]
     },
     "execution_count": 5,
     "metadata": {},
     "output_type": "execute_result"
    }
   ],
   "source": [
    "n1 = out.get('cell_fields/fluid_temperature') #get the dataset\n",
    "print(n1)\n",
    "n1 = np.array(n1) #change that dataset into arrays\n",
    "#print(n1) #now see what \n",
    "n1"
   ]
  },
  {
   "cell_type": "code",
   "execution_count": 36,
   "metadata": {
    "scrolled": true
   },
   "outputs": [
    {
     "name": "stdout",
     "output_type": "stream",
     "text": [
      "Collecting seaborn\n",
      "  Downloading seaborn-0.11.1-py3-none-any.whl (285 kB)\n",
      "\u001b[K     |████████████████████████████████| 285 kB 785 kB/s eta 0:00:01\n",
      "\u001b[?25hRequirement already satisfied: numpy>=1.15 in /usr/local/Cellar/jupyterlab/3.0.3/libexec/lib/python3.9/site-packages (from seaborn) (1.20.2)\n",
      "Requirement already satisfied: matplotlib>=2.2 in /usr/local/Cellar/jupyterlab/3.0.3/libexec/lib/python3.9/site-packages (from seaborn) (3.4.1)\n",
      "Requirement already satisfied: pyparsing>=2.2.1 in /usr/local/Cellar/jupyterlab/3.0.3/libexec/lib/python3.9/site-packages (from matplotlib>=2.2->seaborn) (2.4.7)\n",
      "Requirement already satisfied: pillow>=6.2.0 in /usr/local/Cellar/jupyterlab/3.0.3/libexec/lib/python3.9/site-packages (from matplotlib>=2.2->seaborn) (8.2.0)\n",
      "Requirement already satisfied: cycler>=0.10 in /usr/local/Cellar/jupyterlab/3.0.3/libexec/lib/python3.9/site-packages (from matplotlib>=2.2->seaborn) (0.10.0)\n",
      "Requirement already satisfied: kiwisolver>=1.0.1 in /usr/local/Cellar/jupyterlab/3.0.3/libexec/lib/python3.9/site-packages (from matplotlib>=2.2->seaborn) (1.3.1)\n",
      "Requirement already satisfied: numpy>=1.15 in /usr/local/Cellar/jupyterlab/3.0.3/libexec/lib/python3.9/site-packages (from seaborn) (1.20.2)\n",
      "Requirement already satisfied: python-dateutil>=2.7 in /usr/local/Cellar/jupyterlab/3.0.3/libexec/lib/python3.9/site-packages (from matplotlib>=2.2->seaborn) (2.8.1)\n",
      "Requirement already satisfied: six in /usr/local/Cellar/jupyterlab/3.0.3/libexec/lib/python3.9/site-packages (from cycler>=0.10->matplotlib>=2.2->seaborn) (1.15.0)\n",
      "Collecting pandas>=0.23\n",
      "  Downloading pandas-1.2.4-cp39-cp39-macosx_10_9_x86_64.whl (10.7 MB)\n",
      "\u001b[K     |████████████████████████████████| 10.7 MB 4.8 MB/s eta 0:00:01\n",
      "\u001b[?25hRequirement already satisfied: python-dateutil>=2.7 in /usr/local/Cellar/jupyterlab/3.0.3/libexec/lib/python3.9/site-packages (from matplotlib>=2.2->seaborn) (2.8.1)\n",
      "Requirement already satisfied: pytz>=2017.3 in /usr/local/Cellar/jupyterlab/3.0.3/libexec/lib/python3.9/site-packages (from pandas>=0.23->seaborn) (2020.5)\n",
      "Requirement already satisfied: numpy>=1.15 in /usr/local/Cellar/jupyterlab/3.0.3/libexec/lib/python3.9/site-packages (from seaborn) (1.20.2)\n",
      "Requirement already satisfied: six in /usr/local/Cellar/jupyterlab/3.0.3/libexec/lib/python3.9/site-packages (from cycler>=0.10->matplotlib>=2.2->seaborn) (1.15.0)\n",
      "Collecting scipy>=1.0\n",
      "  Downloading scipy-1.6.2-cp39-cp39-macosx_10_9_x86_64.whl (30.9 MB)\n",
      "\u001b[K     |████████████████████████████████| 30.9 MB 5.3 MB/s eta 0:00:01\n",
      "\u001b[?25hRequirement already satisfied: numpy>=1.15 in /usr/local/Cellar/jupyterlab/3.0.3/libexec/lib/python3.9/site-packages (from seaborn) (1.20.2)\n",
      "Installing collected packages: scipy, pandas, seaborn\n",
      "Successfully installed pandas-1.2.4 scipy-1.6.2 seaborn-0.11.1\n",
      "\u001b[33mWARNING: You are using pip version 20.3.1; however, version 21.0.1 is available.\n",
      "You should consider upgrading via the '/usr/local/Cellar/jupyterlab/3.0.3/libexec/bin/python -m pip install --upgrade pip' command.\u001b[0m\n",
      "Note: you may need to restart the kernel to use updated packages.\n"
     ]
    }
   ],
   "source": [
    "pip install seaborn"
   ]
  },
  {
   "cell_type": "code",
   "execution_count": 6,
   "metadata": {},
   "outputs": [
    {
     "name": "stdout",
     "output_type": "stream",
     "text": [
      "[100.00692681 100.00101027 100.00097572 100.00096089 100.00101027\n",
      " 100.00098538 100.0009654  100.00095509 100.00097572 100.00096541\n",
      " 100.00095445 100.00094801 100.00096089 100.00095509 100.000948\n",
      " 100.0009435 ]\n"
     ]
    },
    {
     "data": {
      "image/png": "[encoded data removed]",
      "text/plain": [
       "<Figure size 432x288 with 2 Axes>"
      ]
     },
     "metadata": {
      "needs_background": "light"
     },
     "output_type": "display_data"
    }
   ],
   "source": [
    "import numpy as np\n",
    "import seaborn as sns\n",
    "import matplotlib.pylab as plt\n",
    "print(n1[16][:])\n",
    "ax = sns.heatmap(n1, linewidth=0)\n",
    "plt.show()"
   ]
  },
  {
   "cell_type": "code",
   "execution_count": 7,
   "metadata": {},
   "outputs": [
    {
     "data": {
      "image/png": "[encoded data removed]",
      "text/plain": [
       "<Figure size 432x288 with 2 Axes>"
      ]
     },
     "metadata": {
      "needs_background": "light"
     },
     "output_type": "display_data"
    }
   ],
   "source": [
    "import matplotlib.pyplot as plt\n",
    "import numpy as np\n",
    "\n",
    "\n",
    "def heatmap2d(arr: np.ndarray):\n",
    "    plt.imshow(arr, cmap='viridis')\n",
    "    plt.colorbar()\n",
    "    plt.show()\n",
    "\n",
    "\n",
    "test_array = n1\n",
    "heatmap2d(test_array)"
   ]
  },
  {
   "cell_type": "code",
   "execution_count": 8,
   "metadata": {},
   "outputs": [
    {
     "name": "stdout",
     "output_type": "stream",
     "text": [
      "1\n"
     ]
    },
    {
     "data": {
      "image/png": "[encoded data removed]",
      "text/plain": [
       "<Figure size 432x288 with 2 Axes>"
      ]
     },
     "metadata": {
      "needs_background": "light"
     },
     "output_type": "display_data"
    }
   ],
   "source": [
    "data = [[1, 2, 3],\n",
    "\n",
    "        [4, 5, 6],\n",
    "\n",
    "        [7, 8, 9]]\n",
    "\n",
    "def heatmap2d(arr: np.ndarray):\n",
    "    plt.imshow(arr, cmap='viridis')\n",
    "    plt.colorbar()\n",
    "    plt.show()\n",
    "\n",
    "print(data[0][0])\n",
    "test_array = data\n",
    "heatmap2d(data)"
   ]
  },
  {
   "cell_type": "code",
   "execution_count": 84,
   "metadata": {},
   "outputs": [
    {
     "name": "stdout",
     "output_type": "stream",
     "text": [
      "71\n",
      "[100.07667224 100.01105031 100.01097794 100.01096291 100.01105031\n",
      " 100.0109876  100.01096748 100.0109571  100.01097794 100.01096747\n",
      " 100.01095648 100.01095002 100.0109629  100.0109571  100.01095001\n",
      " 100.01094551]\n"
     ]
    }
   ],
   "source": [
    "rows, cols = (4, 4)\n",
    "#print(n1[16][:])\n",
    "Index1 = n1[:][0]\n",
    "print(len(Index1))\n",
    "value = n1[71][:]\n",
    "print(value)\n",
    "#arr = [[value for i in range(cols)] for j in range(rows)]\n",
    "#arr"
   ]
  },
  {
   "cell_type": "code",
   "execution_count": 86,
   "metadata": {},
   "outputs": [
    {
     "name": "stdout",
     "output_type": "stream",
     "text": [
      "71\n",
      "16\n",
      "4\n"
     ]
    },
    {
     "data": {
      "image/png": "[encoded data removed]",
      "text/plain": [
       "<Figure size 432x288 with 2 Axes>"
      ]
     },
     "metadata": {
      "needs_background": "light"
     },
     "output_type": "display_data"
    }
   ],
   "source": [
    "import itertools\n",
    "import math\n",
    "\n",
    "bin1 = len(n1)-1\n",
    "print(bin1)\n",
    "value = n1[bin1][:]\n",
    "#print(value)\n",
    "N_ele = len(value)\n",
    "print(N_ele)\n",
    "value[N_ele-1]\n",
    "\n",
    "w = int(math.sqrt(N_ele))\n",
    "h = int(math.sqrt(N_ele))\n",
    "print(w)\n",
    "#w, h = 4, 4;\n",
    "Matrix = [[0 for x in range(w)] for y in range(h)] \n",
    "a = 0\n",
    "for i in range(w):\n",
    "    for j in range(h):\n",
    "        Matrix[i][j] = value[a]\n",
    "        a = a+1\n",
    "        \n",
    "\n",
    "\n",
    "def heatmap2d(arr: np.ndarray):\n",
    "    plt.imshow(arr, cmap='viridis')\n",
    "    plt.colorbar()\n",
    "    plt.show()\n",
    "\n",
    "\n",
    "test_array = Matrix\n",
    "heatmap2d(Matrix)"
   ]
  },
  {
   "cell_type": "code",
   "execution_count": 67,
   "metadata": {},
   "outputs": [
    {
     "data": {
      "image/png": "[encoded data removed]",
      "text/plain": [
       "<Figure size 432x288 with 2 Axes>"
      ]
     },
     "metadata": {
      "needs_background": "light"
     },
     "output_type": "display_data"
    }
   ],
   "source": [
    "import numpy as np\n",
    "import seaborn as sns\n",
    "import matplotlib.pylab as plt\n",
    "ax = sns.heatmap(Matrix, linewidth=0)\n",
    "plt.show()"
   ]
  },
  {
   "cell_type": "code",
   "execution_count": 130,
   "metadata": {},
   "outputs": [
    {
     "name": "stdout",
     "output_type": "stream",
     "text": [
      "5 3\n"
     ]
    }
   ],
   "source": [
    "number = 15\n",
    "for i in range(100):\n",
    "    q = number // (i+1+1)\n",
    "    remainder = float(number % (i+2))\n",
    "    if((remainder==0) & (i+2!=float(number)) & (i+2 > q)):\n",
    "        print(i+2,q)\n",
    "        break\n",
    "    \n",
    "    "
   ]
  },
  {
   "cell_type": "code",
   "execution_count": 146,
   "metadata": {},
   "outputs": [
    {
     "name": "stdout",
     "output_type": "stream",
     "text": [
      "16\n",
      "4 4\n"
     ]
    },
    {
     "data": {
      "image/png": "[encoded data removed]",
      "text/plain": [
       "<Figure size 432x288 with 2 Axes>"
      ]
     },
     "metadata": {
      "needs_background": "light"
     },
     "output_type": "display_data"
    }
   ],
   "source": [
    "import itertools\n",
    "import math\n",
    "\n",
    "bin1 = len(n1)-1\n",
    "value = n1[bin1][:]\n",
    "#print(value)\n",
    "N_ele = len(value)\n",
    "print(N_ele)\n",
    "number = N_ele\n",
    "\n",
    "for i in range(100):\n",
    "    if(number == i*i):\n",
    "        num1 = i\n",
    "        num2 = i\n",
    "        break\n",
    "    else:\n",
    "        q = number // (i+1+1)\n",
    "        remainder = float(number % (i+2))\n",
    "        if((remainder==0) & (i+2!=float(number)) & (i+2 > q)):\n",
    "            #print(i+2,q)\n",
    "            num1 = i+2\n",
    "            num2 = q\n",
    "            break\n",
    "    \n",
    "    \n",
    "value[N_ele-1]\n",
    "w = num1\n",
    "h = num2\n",
    "#w = int(math.sqrt(N_ele))\n",
    "#h = int(math.sqrt(N_ele))\n",
    "print(w,h)\n",
    "#w, h = 4, 4;\n",
    "Matrix = [[0 for x in range(w)] for y in range(h)] \n",
    "a = 0\n",
    "for i in range(w):\n",
    "    for j in range(h):\n",
    "        Matrix[i][j] = value[a]\n",
    "        a = a+1\n",
    "        \n",
    "\n",
    "\n",
    "def heatmap2d(arr: np.ndarray):\n",
    "    plt.imshow(arr, cmap='viridis')\n",
    "    plt.colorbar()\n",
    "    plt.show()\n",
    "\n",
    "\n",
    "test_array = Matrix\n",
    "heatmap2d(Matrix)"
   ]
  },
  {
   "cell_type": "code",
   "execution_count": null,
   "metadata": {},
   "outputs": [],
   "source": []
  }
 ],
 "metadata": {
  "kernelspec": {
   "display_name": "Python 3",
   "language": "python",
   "name": "python3"
  },
  "language_info": {
   "codemirror_mode": {
    "name": "ipython",
    "version": 3
   },
   "file_extension": ".py",
   "mimetype": "text/x-python",
   "name": "python",
   "nbconvert_exporter": "python",
   "pygments_lexer": "ipython3",
   "version": "3.9.1"
  }
 },
 "nbformat": 4,
 "nbformat_minor": 4
}
